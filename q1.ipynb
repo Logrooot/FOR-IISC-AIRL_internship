{
  "cells": [
    {
      "cell_type": "code",
      "execution_count": null,
      "metadata": {
        "id": "z3qiUCPDDBoe"
      },
      "outputs": [],
      "source": [
        "import torch\n",
        "import torch.nn as nn\n",
        "import torch.nn.functional as F\n",
        "import torch.optim as optim\n",
        "from torch.utils.data import dataloader\n",
        "from torchvision import datasets, transforms\n",
        "import torchvision\n",
        "import matplotlib.pyplot as plt\n",
        "import numpy as np\n",
        "import random\n",
        "from tqdm.auto import tqdm\n",
        "\n",
        "device='cuda' if torch.cuda.is_available() else 'cpu'\n"
      ]
    },
    {
      "cell_type": "code",
      "execution_count": null,
      "metadata": {
        "id": "s7reL0N3XXEF"
      },
      "outputs": [],
      "source": [
        "torch.manual_seed(42)\n",
        "torch.cuda.manual_seed(42)\n",
        "np.random.seed(42)\n",
        "random.seed(42)"
      ]
    },
    {
      "cell_type": "markdown",
      "metadata": {
        "id": "qfy6W3QoYTni"
      },
      "source": [
        "Hyparameters\n"
      ]
    },
    {
      "cell_type": "code",
      "execution_count": null,
      "metadata": {
        "id": "PY35UKK5YKOM"
      },
      "outputs": [],
      "source": [
        "Batch_size=512\n",
        "Epochs=100\n",
        "Learning_rate=3e-4\n",
        "Patch_size=4\n",
        "Num_classes=10\n",
        "img_size=32\n",
        "Channels=3\n",
        "Embed_dim=384\n",
        "Num_heads=8\n",
        "Depth=6\n",
        "Mlp_dim=512\n",
        "Drop_rate=0.1"
      ]
    },
    {
      "cell_type": "markdown",
      "metadata": {
        "id": "ZdQ3ezBQ6lPi"
      },
      "source": [
        "Image augmentation:"
      ]
    },
    {
      "cell_type": "code",
      "execution_count": null,
      "metadata": {
        "id": "LpNKfpbs6k9O"
      },
      "outputs": [],
      "source": [
        "mean = (0.4914, 0.4822, 0.4465)\n",
        "std = (0.2023, 0.1994, 0.2010)\n",
        "transform_train = transforms.Compose([\n",
        "    transforms.RandomCrop(32, padding=4),\n",
        "    transforms.Resize(img_size),\n",
        "    transforms.RandomHorizontalFlip(),\n",
        "    transforms.ToTensor(),\n",
        "    transforms.Normalize(mean, std),\n",
        "])\n",
        "\n",
        "transform_test = transforms.Compose([\n",
        "    transforms.Resize(img_size),\n",
        "    transforms.ToTensor(),\n",
        "    transforms.Normalize(mean, std),\n",
        "])"
      ]
    },
    {
      "cell_type": "code",
      "source": [
        "import numpy as np\n",
        "import torch\n",
        "\n",
        "def rand_bbox(size, lam):\n",
        "    W = size[2]\n",
        "    H = size[3]\n",
        "    cut_rat = np.sqrt(1. - lam)\n",
        "    cut_w = int(W * cut_rat)\n",
        "    cut_h = int(H * cut_rat)\n",
        "    cx = np.random.randint(W)\n",
        "    cy = np.random.randint(H)\n",
        "    bbx1 = np.clip(cx - cut_w // 2, 0, W)\n",
        "    bby1 = np.clip(cy - cut_h // 2, 0, H)\n",
        "    bbx2 = np.clip(cx + cut_w // 2, 0, W)\n",
        "    bby2 = np.clip(cy + cut_h // 2, 0, H)\n",
        "    return bbx1, bby1, bbx2, bby2\n",
        "def cutmix_data(x, y, alpha=1.0):\n",
        "    lam = np.random.beta(alpha, alpha)\n",
        "    rand_index = torch.randperm(x.size()[0]).to(x.device)\n",
        "    y_a = y\n",
        "    y_b = y[rand_index]\n",
        "    bbx1, bby1, bbx2, bby2 = rand_bbox(x.size(), lam)\n",
        "    x[:, :, bbx1:bbx2, bby1:bby2] = x[rand_index, :, bbx1:bbx2, bby1:bby2]\n",
        "    lam = 1 - ((bbx2 - bbx1) * (bby2 - bby1) / (x.size()[-1] * x.size()[-2]))\n",
        "    return x, y_a, y_b, lam\n"
      ],
      "metadata": {
        "id": "N91NoxsQjLlj"
      },
      "execution_count": null,
      "outputs": []
    },
    {
      "cell_type": "markdown",
      "metadata": {
        "id": "pRgs2QNpaKmt"
      },
      "source": [
        "Dataset[CIFAR-10]"
      ]
    },
    {
      "cell_type": "code",
      "execution_count": null,
      "metadata": {
        "id": "PAoC-DABaGly",
        "colab": {
          "base_uri": "https://localhost:8080/"
        },
        "outputId": "7a3678fc-9fb3-4e15-8d89-9bc8641bd896"
      },
      "outputs": [
        {
          "output_type": "stream",
          "name": "stderr",
          "text": [
            "100%|\u2588\u2588\u2588\u2588\u2588\u2588\u2588\u2588\u2588\u2588| 170M/170M [00:13<00:00, 12.3MB/s]\n"
          ]
        }
      ],
      "source": [
        "train_dataset=datasets.CIFAR10(root='./data',train=True,download=True,transform=transform_train)\n",
        "test_dataset=datasets.CIFAR10(root='./data',train=False,download=True,transform=transform_test)"
      ]
    },
    {
      "cell_type": "code",
      "execution_count": null,
      "metadata": {
        "id": "ADeg0QkebBEb",
        "colab": {
          "base_uri": "https://localhost:8080/"
        },
        "outputId": "88490b4a-200b-41d1-b451-4fe76f3ca3cb"
      },
      "outputs": [
        {
          "output_type": "stream",
          "name": "stderr",
          "text": [
            "/usr/local/lib/python3.12/dist-packages/torch/utils/data/dataloader.py:627: UserWarning: This DataLoader will create 8 worker processes in total. Our suggested max number of worker in current system is 2, which is smaller than what this DataLoader is going to create. Please be aware that excessive worker creation might get DataLoader running slow or even freeze, lower the worker number to avoid potential slowness/freeze if necessary.\n",
            "  warnings.warn(\n"
          ]
        }
      ],
      "source": [
        "train_dataloader  =torch.utils.data.DataLoader(train_dataset,batch_size=Batch_size,num_workers=8,shuffle=True)\n",
        "test_dataloader =torch.utils.data.DataLoader(test_dataset,batch_size=Batch_size,num_workers=8, shuffle=False)"
      ]
    },
    {
      "cell_type": "markdown",
      "metadata": {
        "id": "vGA79y3wcJl9"
      },
      "source": [
        "ViT"
      ]
    },
    {
      "cell_type": "code",
      "execution_count": null,
      "metadata": {
        "id": "7bGVRiUccPD8"
      },
      "outputs": [],
      "source": [
        "class PatchEmbedding(nn.Module):\n",
        "    def __init__(self,img_size,patch_size,in_channels,embed_dim):\n",
        "        super().__init__()\n",
        "        self.patch_size=patch_size\n",
        "\n",
        "        ## for non overlapping patches:\n",
        "        self.proj=nn.Conv2d(in_channels,embed_dim,kernel_size=patch_size,stride=patch_size)\n",
        "        num_patches=(img_size//patch_size)**2\n",
        "\n",
        "        ## overlapping patches:\n",
        "        #self.proj = nn.Conv2d(in_channels, embed_dim, kernel_size=patch_size, stride=patch_size // 2)\n",
        "        #output_height = (img_size - patch_size) // (patch_size // 2) + 1\n",
        "        #output_width = (img_size - patch_size) // (patch_size // 2) + 1\n",
        "        #num_patches = output_height * output_width\n",
        "        ##\n",
        "        self.cls_token=nn.Parameter(torch.randn(1,1,embed_dim))\n",
        "        self.pos_embed=nn.Parameter(torch.randn(1,num_patches+1,embed_dim))\n",
        "    def forward(self,x):\n",
        "        B=x.size(0)\n",
        "        x=self.proj(x)\n",
        "        x=x.flatten(2).transpose(1,2)\n",
        "        cls_token=self.cls_token.expand(B,-1,-1)\n",
        "        x=torch.cat((cls_token,x),dim=1)\n",
        "        x=x+self.pos_embed\n",
        "        return x\n",
        "\n",
        "class MLP(nn.Module):\n",
        "    def __init__(self,in_features,hidden_features,drop_rate):\n",
        "        super().__init__()\n",
        "        self.fc1=nn.Linear(in_features,hidden_features)\n",
        "        self.fc2=nn.Linear(hidden_features,in_features)\n",
        "        self.drop=nn.Dropout(drop_rate)\n",
        "    def forward(self,x):\n",
        "        x=self.drop(F.gelu(self.fc1(x)))\n",
        "        x=self.drop(self.fc2(x))\n",
        "        return x\n",
        "class TransformerEncoderBlock(nn.Module):\n",
        "    def __init__(self,embed_dim,num_heads,mlp_dim,drop_rate):\n",
        "        super().__init__()\n",
        "        self.norm1=nn.LayerNorm(embed_dim)\n",
        "        self.attn=nn.MultiheadAttention(embed_dim,num_heads,dropout=drop_rate, batch_first= True)\n",
        "        self.norm2=nn.LayerNorm(embed_dim)\n",
        "        self.mlp=MLP(embed_dim,mlp_dim,drop_rate)\n",
        "    def forward(self,x):\n",
        "        x=x+self.attn(self.norm1(x), self.norm1(x), self.norm1(x))[0]\n",
        "        x=x+self.mlp(self.norm2(x))\n",
        "        return x"
      ]
    },
    {
      "cell_type": "code",
      "execution_count": null,
      "metadata": {
        "id": "uIDOZBdMcI5I"
      },
      "outputs": [],
      "source": [
        "class VisionTransformer(nn.Module):\n",
        "  def __init__(self, img_size, patch_size, in_channels, num_classes, embed_dim, depth, num_heads, mlp_dim,drop_rate):\n",
        "      super().__init__()\n",
        "      self.patch_embed = PatchEmbedding(img_size, patch_size, in_channels, embed_dim)\n",
        "      self.encoder =nn.Sequential(*[TransformerEncoderBlock(embed_dim,num_heads,mlp_dim,drop_rate)\n",
        "       for _ in range(depth)])\n",
        "      self.norm = nn.LayerNorm(embed_dim)\n",
        "      self.head = nn.Linear(embed_dim, num_classes)\n",
        "  def forward(self, x):\n",
        "     x = self.patch_embed(x)\n",
        "     x = self.encoder(x)\n",
        "     x = self.norm(x)\n",
        "     cls_token = x[:,0]\n",
        "     return self.head(cls_token)"
      ]
    },
    {
      "cell_type": "markdown",
      "metadata": {
        "id": "hnrYr2Hajpj8"
      },
      "source": [
        "Initiation of the model"
      ]
    },
    {
      "cell_type": "code",
      "execution_count": null,
      "metadata": {
        "colab": {
          "base_uri": "https://localhost:8080/"
        },
        "id": "cCri0BxLjmE9",
        "outputId": "0e4b0d21-a563-4cf9-f1a0-7b6edcb52f43"
      },
      "outputs": [
        {
          "output_type": "execute_result",
          "data": {
            "text/plain": [
              "VisionTransformer(\n",
              "  (patch_embed): PatchEmbedding(\n",
              "    (proj): Conv2d(3, 384, kernel_size=(4, 4), stride=(4, 4))\n",
              "  )\n",
              "  (encoder): Sequential(\n",
              "    (0): TransformerEncoderBlock(\n",
              "      (norm1): LayerNorm((384,), eps=1e-05, elementwise_affine=True)\n",
              "      (attn): MultiheadAttention(\n",
              "        (out_proj): NonDynamicallyQuantizableLinear(in_features=384, out_features=384, bias=True)\n",
              "      )\n",
              "      (norm2): LayerNorm((384,), eps=1e-05, elementwise_affine=True)\n",
              "      (mlp): MLP(\n",
              "        (fc1): Linear(in_features=384, out_features=512, bias=True)\n",
              "        (fc2): Linear(in_features=512, out_features=384, bias=True)\n",
              "        (drop): Dropout(p=0.1, inplace=False)\n",
              "      )\n",
              "    )\n",
              "    (1): TransformerEncoderBlock(\n",
              "      (norm1): LayerNorm((384,), eps=1e-05, elementwise_affine=True)\n",
              "      (attn): MultiheadAttention(\n",
              "        (out_proj): NonDynamicallyQuantizableLinear(in_features=384, out_features=384, bias=True)\n",
              "      )\n",
              "      (norm2): LayerNorm((384,), eps=1e-05, elementwise_affine=True)\n",
              "      (mlp): MLP(\n",
              "        (fc1): Linear(in_features=384, out_features=512, bias=True)\n",
              "        (fc2): Linear(in_features=512, out_features=384, bias=True)\n",
              "        (drop): Dropout(p=0.1, inplace=False)\n",
              "      )\n",
              "    )\n",
              "    (2): TransformerEncoderBlock(\n",
              "      (norm1): LayerNorm((384,), eps=1e-05, elementwise_affine=True)\n",
              "      (attn): MultiheadAttention(\n",
              "        (out_proj): NonDynamicallyQuantizableLinear(in_features=384, out_features=384, bias=True)\n",
              "      )\n",
              "      (norm2): LayerNorm((384,), eps=1e-05, elementwise_affine=True)\n",
              "      (mlp): MLP(\n",
              "        (fc1): Linear(in_features=384, out_features=512, bias=True)\n",
              "        (fc2): Linear(in_features=512, out_features=384, bias=True)\n",
              "        (drop): Dropout(p=0.1, inplace=False)\n",
              "      )\n",
              "    )\n",
              "    (3): TransformerEncoderBlock(\n",
              "      (norm1): LayerNorm((384,), eps=1e-05, elementwise_affine=True)\n",
              "      (attn): MultiheadAttention(\n",
              "        (out_proj): NonDynamicallyQuantizableLinear(in_features=384, out_features=384, bias=True)\n",
              "      )\n",
              "      (norm2): LayerNorm((384,), eps=1e-05, elementwise_affine=True)\n",
              "      (mlp): MLP(\n",
              "        (fc1): Linear(in_features=384, out_features=512, bias=True)\n",
              "        (fc2): Linear(in_features=512, out_features=384, bias=True)\n",
              "        (drop): Dropout(p=0.1, inplace=False)\n",
              "      )\n",
              "    )\n",
              "    (4): TransformerEncoderBlock(\n",
              "      (norm1): LayerNorm((384,), eps=1e-05, elementwise_affine=True)\n",
              "      (attn): MultiheadAttention(\n",
              "        (out_proj): NonDynamicallyQuantizableLinear(in_features=384, out_features=384, bias=True)\n",
              "      )\n",
              "      (norm2): LayerNorm((384,), eps=1e-05, elementwise_affine=True)\n",
              "      (mlp): MLP(\n",
              "        (fc1): Linear(in_features=384, out_features=512, bias=True)\n",
              "        (fc2): Linear(in_features=512, out_features=384, bias=True)\n",
              "        (drop): Dropout(p=0.1, inplace=False)\n",
              "      )\n",
              "    )\n",
              "    (5): TransformerEncoderBlock(\n",
              "      (norm1): LayerNorm((384,), eps=1e-05, elementwise_affine=True)\n",
              "      (attn): MultiheadAttention(\n",
              "        (out_proj): NonDynamicallyQuantizableLinear(in_features=384, out_features=384, bias=True)\n",
              "      )\n",
              "      (norm2): LayerNorm((384,), eps=1e-05, elementwise_affine=True)\n",
              "      (mlp): MLP(\n",
              "        (fc1): Linear(in_features=384, out_features=512, bias=True)\n",
              "        (fc2): Linear(in_features=512, out_features=384, bias=True)\n",
              "        (drop): Dropout(p=0.1, inplace=False)\n",
              "      )\n",
              "    )\n",
              "  )\n",
              "  (norm): LayerNorm((384,), eps=1e-05, elementwise_affine=True)\n",
              "  (head): Linear(in_features=384, out_features=10, bias=True)\n",
              ")"
            ]
          },
          "metadata": {},
          "execution_count": 10
        }
      ],
      "source": [
        "model = VisionTransformer(img_size, Patch_size, Channels, Num_classes, Embed_dim, Depth, Num_heads, Mlp_dim, Drop_rate).to(device)\n",
        "model"
      ]
    },
    {
      "cell_type": "markdown",
      "metadata": {
        "id": "UQM5GhnVmD34"
      },
      "source": [
        "LOSS and Optimiser"
      ]
    },
    {
      "cell_type": "code",
      "execution_count": null,
      "metadata": {
        "id": "zNHPSRG8l8TY"
      },
      "outputs": [],
      "source": [
        "criterion = nn.CrossEntropyLoss(label_smoothing=0.1)\n",
        "optimizer = torch.optim.AdamW(model.parameters(), lr=3e-4, weight_decay=1e-4)\n",
        "scheduler = torch.optim.lr_scheduler.CosineAnnealingLR(optimizer, T_max=Epochs)"
      ]
    },
    {
      "cell_type": "code",
      "execution_count": null,
      "metadata": {
        "id": "1HBjPYLzmvVZ"
      },
      "outputs": [],
      "source": [
        "def train(model, dataloader, criterion, optimizer, device, cutmix_prob=0.5, alpha=1.0):\n",
        "    model.train()\n",
        "    total_loss, correct = 0, 0\n",
        "    for x, y in dataloader:\n",
        "        x, y = x.to(device), y.to(device)\n",
        "        optimizer.zero_grad()\n",
        "        r = np.random.rand()\n",
        "        if r < cutmix_prob:\n",
        "            x, targets_a, targets_b, lam = cutmix_data(x, y, alpha)\n",
        "            output = model(x)\n",
        "            loss = lam * criterion(output, targets_a) + (1 - lam) * criterion(output, targets_b)\n",
        "        else:\n",
        "            output = model(x)\n",
        "            loss = criterion(output, y)\n",
        "        loss.backward()\n",
        "        optimizer.step()\n",
        "        total_loss += loss.item() * x.size(0)\n",
        "        correct += (output.argmax(1) == y).sum().item()\n",
        "    return total_loss / len(dataloader.dataset), correct / len(dataloader.dataset)\n",
        "\n",
        "def evaluate(model, dataloader, criterion, device):\n",
        "    model.eval()\n",
        "    total_loss, correct = 0, 0\n",
        "    with torch.inference_mode():\n",
        "        for x, y in dataloader:\n",
        "            x, y = x.to(device), y.to(device)\n",
        "            output = model(x)\n",
        "            total_loss += criterion(output, y).item() * x.size(0)\n",
        "            correct += (output.argmax(dim=1) == y).sum().item()\n",
        "    return total_loss / len(dataloader.dataset), correct / len(dataloader.dataset)"
      ]
    },
    {
      "cell_type": "code",
      "execution_count": null,
      "metadata": {
        "id": "oxvO_cf9pA-A",
        "colab": {
          "base_uri": "https://localhost:8080/",
          "height": 1000,
          "referenced_widgets": [
            "b9c5c8ed14e742b286a071b78ad405df",
            "e8797fe5c7ba48d9bd148df03ffe8a7c",
            "164f75fbe25342c88ea863b70f060765",
            "73370ebdabe14b0d9d458c02e090741d",
            "d8a4b817ab5645bb97f8c760d1ab12d4",
            "dad0ded7d7b64d1cb756131ff5cd42e8",
            "1cad62e79af44c0bb21d57f2881ef78c",
            "9b2d2834a34e4b5faeba1f9249bc46a6",
            "a0d88b2fc1044f68ba31bf562f171dcc",
            "8180b5389a5f40fbb305535ead12714d",
            "8c3470accb8746ab9d3ffd27b79ccf4b"
          ]
        },
        "outputId": "4b4328d1-b262-4af6-c27f-f61674a7ec56"
      },
      "outputs": [
        {
          "output_type": "display_data",
          "data": {
            "text/plain": [
              "  0%|          | 0/100 [00:00<?, ?it/s]"
            ],
            "application/vnd.jupyter.widget-view+json": {
              "version_major": 2,
              "version_minor": 0,
              "model_id": "b9c5c8ed14e742b286a071b78ad405df"
            }
          },
          "metadata": {}
        },
        {
          "output_type": "stream",
          "name": "stdout",
          "text": [
            "Epochs: 1/100, Train Loss:1.8837, Train acc:0.3731, Test Loss:1.7342, Test acc:0.4540\n",
            "Epochs: 2/100, Train Loss:1.8306, Train acc:0.4082, Test Loss:1.5664, Test acc:0.5154\n",
            "Epochs: 3/100, Train Loss:1.7898, Train acc:0.4277, Test Loss:1.5087, Test acc:0.5437\n",
            "Epochs: 4/100, Train Loss:1.7437, Train acc:0.4519, Test Loss:1.4632, Test acc:0.5610\n",
            "Epochs: 5/100, Train Loss:1.6838, Train acc:0.4723, Test Loss:1.4261, Test acc:0.5780\n",
            "Epochs: 6/100, Train Loss:1.7248, Train acc:0.4568, Test Loss:1.4635, Test acc:0.5830\n",
            "Epochs: 7/100, Train Loss:1.6680, Train acc:0.4719, Test Loss:1.3716, Test acc:0.6121\n",
            "Epochs: 8/100, Train Loss:1.6648, Train acc:0.4921, Test Loss:1.3824, Test acc:0.6069\n",
            "Epochs: 9/100, Train Loss:1.5953, Train acc:0.5198, Test Loss:1.3279, Test acc:0.6192\n",
            "Epochs: 10/100, Train Loss:1.5857, Train acc:0.5293, Test Loss:1.3000, Test acc:0.6367\n",
            "Epochs: 11/100, Train Loss:1.5794, Train acc:0.5362, Test Loss:1.2650, Test acc:0.6515\n",
            "Epochs: 12/100, Train Loss:1.5670, Train acc:0.5352, Test Loss:1.2891, Test acc:0.6521\n",
            "Epochs: 13/100, Train Loss:1.5209, Train acc:0.5677, Test Loss:1.2516, Test acc:0.6610\n",
            "Epochs: 14/100, Train Loss:1.5424, Train acc:0.5393, Test Loss:1.2392, Test acc:0.6726\n",
            "Epochs: 15/100, Train Loss:1.5142, Train acc:0.5652, Test Loss:1.2132, Test acc:0.6843\n",
            "Epochs: 16/100, Train Loss:1.5392, Train acc:0.5544, Test Loss:1.2055, Test acc:0.6811\n",
            "Epochs: 17/100, Train Loss:1.5161, Train acc:0.5701, Test Loss:1.1761, Test acc:0.6973\n",
            "Epochs: 18/100, Train Loss:1.5064, Train acc:0.5810, Test Loss:1.1576, Test acc:0.7039\n",
            "Epochs: 19/100, Train Loss:1.4352, Train acc:0.6050, Test Loss:1.1470, Test acc:0.7134\n",
            "Epochs: 20/100, Train Loss:1.5404, Train acc:0.5645, Test Loss:1.2116, Test acc:0.6851\n",
            "Epochs: 21/100, Train Loss:1.4646, Train acc:0.6008, Test Loss:1.1469, Test acc:0.7153\n",
            "Epochs: 22/100, Train Loss:1.4782, Train acc:0.5741, Test Loss:1.1144, Test acc:0.7237\n",
            "Epochs: 23/100, Train Loss:1.4751, Train acc:0.5837, Test Loss:1.1133, Test acc:0.7258\n",
            "Epochs: 24/100, Train Loss:1.4501, Train acc:0.6019, Test Loss:1.0982, Test acc:0.7336\n",
            "Epochs: 25/100, Train Loss:1.5256, Train acc:0.5484, Test Loss:1.1376, Test acc:0.7293\n",
            "Epochs: 26/100, Train Loss:1.3763, Train acc:0.6260, Test Loss:1.0757, Test acc:0.7415\n",
            "Epochs: 27/100, Train Loss:1.4034, Train acc:0.6245, Test Loss:1.0912, Test acc:0.7387\n",
            "Epochs: 28/100, Train Loss:1.4296, Train acc:0.6032, Test Loss:1.0715, Test acc:0.7459\n",
            "Epochs: 29/100, Train Loss:1.3883, Train acc:0.6251, Test Loss:1.1092, Test acc:0.7341\n",
            "Epochs: 30/100, Train Loss:1.4032, Train acc:0.6289, Test Loss:1.0696, Test acc:0.7423\n",
            "Epochs: 31/100, Train Loss:1.3552, Train acc:0.6420, Test Loss:1.0765, Test acc:0.7451\n",
            "Epochs: 32/100, Train Loss:1.3171, Train acc:0.6627, Test Loss:1.0487, Test acc:0.7539\n",
            "Epochs: 33/100, Train Loss:1.4168, Train acc:0.6204, Test Loss:1.0338, Test acc:0.7634\n",
            "Epochs: 34/100, Train Loss:1.3380, Train acc:0.6523, Test Loss:1.0191, Test acc:0.7687\n",
            "Epochs: 35/100, Train Loss:1.2594, Train acc:0.6868, Test Loss:1.0093, Test acc:0.7762\n",
            "Epochs: 36/100, Train Loss:1.3596, Train acc:0.6610, Test Loss:1.0081, Test acc:0.7742\n",
            "Epochs: 37/100, Train Loss:1.2841, Train acc:0.6844, Test Loss:1.0067, Test acc:0.7757\n",
            "Epochs: 38/100, Train Loss:1.3212, Train acc:0.6359, Test Loss:0.9919, Test acc:0.7830\n",
            "Epochs: 39/100, Train Loss:1.2853, Train acc:0.6759, Test Loss:0.9885, Test acc:0.7833\n",
            "Epochs: 40/100, Train Loss:1.3287, Train acc:0.6556, Test Loss:0.9976, Test acc:0.7827\n",
            "Epochs: 41/100, Train Loss:1.3261, Train acc:0.6616, Test Loss:0.9954, Test acc:0.7797\n",
            "Epochs: 42/100, Train Loss:1.2480, Train acc:0.7032, Test Loss:0.9754, Test acc:0.7872\n",
            "Epochs: 43/100, Train Loss:1.2973, Train acc:0.6838, Test Loss:0.9865, Test acc:0.7891\n",
            "Epochs: 44/100, Train Loss:1.2831, Train acc:0.6835, Test Loss:0.9697, Test acc:0.7969\n",
            "Epochs: 45/100, Train Loss:1.3103, Train acc:0.6507, Test Loss:0.9632, Test acc:0.7916\n",
            "Epochs: 46/100, Train Loss:1.2496, Train acc:0.6813, Test Loss:0.9667, Test acc:0.7929\n",
            "Epochs: 47/100, Train Loss:1.2012, Train acc:0.7144, Test Loss:0.9737, Test acc:0.7926\n",
            "Epochs: 48/100, Train Loss:1.2440, Train acc:0.7016, Test Loss:0.9621, Test acc:0.7977\n",
            "Epochs: 49/100, Train Loss:1.2096, Train acc:0.7089, Test Loss:0.9451, Test acc:0.8034\n",
            "Epochs: 50/100, Train Loss:1.1947, Train acc:0.7225, Test Loss:0.9463, Test acc:0.8074\n",
            "Epochs: 51/100, Train Loss:1.2109, Train acc:0.7100, Test Loss:0.9447, Test acc:0.7986\n",
            "Epochs: 52/100, Train Loss:1.3195, Train acc:0.6703, Test Loss:0.9592, Test acc:0.8000\n",
            "Epochs: 53/100, Train Loss:1.1856, Train acc:0.7322, Test Loss:0.9354, Test acc:0.8126\n",
            "Epochs: 54/100, Train Loss:1.2753, Train acc:0.6967, Test Loss:0.9327, Test acc:0.8093\n",
            "Epochs: 55/100, Train Loss:1.2204, Train acc:0.7270, Test Loss:0.9382, Test acc:0.8062\n",
            "Epochs: 56/100, Train Loss:1.2077, Train acc:0.7239, Test Loss:0.9175, Test acc:0.8176\n",
            "Epochs: 57/100, Train Loss:1.2297, Train acc:0.7065, Test Loss:0.9385, Test acc:0.8087\n",
            "Epochs: 58/100, Train Loss:1.3163, Train acc:0.6792, Test Loss:0.9296, Test acc:0.8121\n",
            "Epochs: 59/100, Train Loss:1.2461, Train acc:0.7068, Test Loss:0.9121, Test acc:0.8184\n",
            "Epochs: 60/100, Train Loss:1.1754, Train acc:0.7216, Test Loss:0.9161, Test acc:0.8173\n",
            "Epochs: 61/100, Train Loss:1.2121, Train acc:0.7057, Test Loss:0.9179, Test acc:0.8171\n",
            "Epochs: 62/100, Train Loss:1.1542, Train acc:0.7352, Test Loss:0.9079, Test acc:0.8241\n",
            "Epochs: 63/100, Train Loss:1.1566, Train acc:0.7417, Test Loss:0.9115, Test acc:0.8226\n",
            "Epochs: 64/100, Train Loss:1.0563, Train acc:0.7748, Test Loss:0.9150, Test acc:0.8208\n",
            "Epochs: 65/100, Train Loss:1.2178, Train acc:0.7285, Test Loss:0.9118, Test acc:0.8201\n",
            "Epochs: 66/100, Train Loss:1.1584, Train acc:0.7523, Test Loss:0.9027, Test acc:0.8250\n",
            "Epochs: 67/100, Train Loss:1.1862, Train acc:0.7261, Test Loss:0.9011, Test acc:0.8276\n",
            "Epochs: 68/100, Train Loss:1.1992, Train acc:0.7155, Test Loss:0.9119, Test acc:0.8217\n",
            "Epochs: 69/100, Train Loss:1.2336, Train acc:0.7091, Test Loss:0.8970, Test acc:0.8247\n",
            "Epochs: 70/100, Train Loss:1.2069, Train acc:0.7305, Test Loss:0.8934, Test acc:0.8294\n",
            "Epochs: 71/100, Train Loss:1.1765, Train acc:0.7544, Test Loss:0.8923, Test acc:0.8283\n",
            "Epochs: 72/100, Train Loss:1.1138, Train acc:0.7755, Test Loss:0.8928, Test acc:0.8295\n",
            "Epochs: 73/100, Train Loss:1.0982, Train acc:0.7633, Test Loss:0.8937, Test acc:0.8299\n",
            "Epochs: 74/100, Train Loss:1.1879, Train acc:0.7289, Test Loss:0.8924, Test acc:0.8274\n",
            "Epochs: 75/100, Train Loss:1.1810, Train acc:0.7423, Test Loss:0.8909, Test acc:0.8296\n",
            "Epochs: 76/100, Train Loss:1.1537, Train acc:0.7482, Test Loss:0.8877, Test acc:0.8305\n",
            "Epochs: 77/100, Train Loss:1.1378, Train acc:0.7573, Test Loss:0.8888, Test acc:0.8325\n",
            "Epochs: 78/100, Train Loss:1.1427, Train acc:0.7505, Test Loss:0.8915, Test acc:0.8309\n",
            "Epochs: 79/100, Train Loss:1.0638, Train acc:0.7813, Test Loss:0.8892, Test acc:0.8321\n",
            "Epochs: 80/100, Train Loss:1.1548, Train acc:0.7127, Test Loss:0.8897, Test acc:0.8323\n",
            "Epochs: 81/100, Train Loss:1.1709, Train acc:0.7344, Test Loss:0.8869, Test acc:0.8315\n",
            "Epochs: 82/100, Train Loss:1.1623, Train acc:0.7350, Test Loss:0.8854, Test acc:0.8322\n",
            "Early stopping triggered.\n"
          ]
        },
        {
          "output_type": "execute_result",
          "data": {
            "text/plain": [
              "<All keys matched successfully>"
            ]
          },
          "metadata": {},
          "execution_count": 15
        }
      ],
      "source": [
        "best_acc = 0.0\n",
        "patience = 5\n",
        "counter = 0\n",
        "train_accuracies, test_accuracies = [], []\n",
        "for epoch in tqdm(range(Epochs)):\n",
        "    train_loss, train_acc = train(model, train_dataloader, criterion, optimizer, device)\n",
        "    test_loss, test_acc = evaluate(model, test_dataloader, criterion, device)\n",
        "    print(f\"Epochs: {epoch+1}/{Epochs}, \"f\"Train Loss:{train_loss:.4f}, Train acc:{train_acc:.4f}, \"f\"Test Loss:{test_loss:.4f}, Test acc:{test_acc:.4f}\")\n",
        "    scheduler.step()\n",
        "    if test_acc > best_acc:\n",
        "      best_acc = test_acc\n",
        "      counter = 0\n",
        "      torch.save(model.state_dict(), \"best_model.pth\")\n",
        "    else:\n",
        "      counter += 1\n",
        "      if counter >= patience:\n",
        "            print(\"Early stopping triggered.\")\n",
        "            break\n",
        "model.load_state_dict(torch.load(\"best_model.pth\"))\n"
      ]
    }
  ],
  "metadata": {
    "accelerator": "GPU",
    "colab": {
      "gpuType": "T4",
      "provenance": []
    },
    "kernelspec": {
      "display_name": "Python 3",
      "name": "python3"
    },
    "language_info": {
      "name": "python"
    }
  },
  "nbformat": 4,
  "nbformat_minor": 0
}